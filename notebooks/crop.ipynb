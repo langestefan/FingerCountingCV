{
 "cells": [
  {
   "cell_type": "markdown",
   "metadata": {},
   "source": [
    "import"
   ]
  },
  {
   "cell_type": "code",
   "execution_count": 31,
   "metadata": {},
   "outputs": [],
   "source": [
    "# Importing Image class from PIL module\n",
    "from PIL import Image\n",
    "import os, sys\n",
    "import numpy as np\n",
    "import cv2\n"
   ]
  },
  {
   "cell_type": "markdown",
   "metadata": {},
   "source": [
    "List files in directory"
   ]
  },
  {
   "cell_type": "code",
   "execution_count": 32,
   "metadata": {},
   "outputs": [
    {
     "name": "stdout",
     "output_type": "stream",
     "text": [
      "Nr of files:  80\n"
     ]
    }
   ],
   "source": [
    "base_path = 'raw/5/'\n",
    "cropped_path = 'cropped/5/'\n",
    "\n",
    "# list all files in directory\n",
    "files = os.listdir(base_path)\n",
    "n_files = len(files)\n",
    "print(\"Nr of files: \", n_files)"
   ]
  },
  {
   "cell_type": "markdown",
   "metadata": {},
   "source": [
    "crop each image to 612x408"
   ]
  },
  {
   "cell_type": "code",
   "execution_count": 33,
   "metadata": {},
   "outputs": [],
   "source": [
    "def rescale_image(image, width, height):\n",
    "    dim = (width, height)\n",
    "    return cv2.resize(image, dim, interpolation=cv2.INTER_AREA)\n",
    "\n",
    "def crop_image(image, left, top, right, bottom):\n",
    "    return image.crop((left, top, right, bottom))\n",
    "\n",
    "# loop over each file in directory\n",
    "for i in range(n_files):\n",
    "    # open image\n",
    "    im = Image.open(os.path.join(base_path, files[i]))\n",
    "\n",
    "    # get image size\n",
    "    width, height = im.size\n",
    "\n",
    "    # crop image HxW\n",
    "    left = 0\n",
    "    upper = 0\n",
    "    right = 612\n",
    "    lower = 408\n",
    "    im1 = crop_image(im, left, upper, right, lower)\n",
    "\n",
    "    # save image\n",
    "    im1.save(os.path.join(cropped_path, 'five_raw_' + str(i) + '.png'))\n",
    "\n",
    "    # show image\n",
    "    # im1.show()\n"
   ]
  }
 ],
 "metadata": {
  "interpreter": {
   "hash": "369441202de9f090a0e57b38848d3e186c8686d751df00b39c544f960532016f"
  },
  "kernelspec": {
   "display_name": "Python 3.9.12 ('deepl')",
   "language": "python",
   "name": "python3"
  },
  "language_info": {
   "codemirror_mode": {
    "name": "ipython",
    "version": 3
   },
   "file_extension": ".py",
   "mimetype": "text/x-python",
   "name": "python",
   "nbconvert_exporter": "python",
   "pygments_lexer": "ipython3",
   "version": "3.9.12"
  },
  "orig_nbformat": 4
 },
 "nbformat": 4,
 "nbformat_minor": 2
}
